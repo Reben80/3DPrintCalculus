{
  "nbformat": 4,
  "nbformat_minor": 0,
  "metadata": {
    "colab": {
      "private_outputs": true,
      "provenance": [],
      "authorship_tag": "ABX9TyMdyg1FntW/FtSse8Pw+CTI",
      "include_colab_link": true
    },
    "kernelspec": {
      "name": "python3",
      "display_name": "Python 3"
    },
    "language_info": {
      "name": "python"
    }
  },
  "cells": [
    {
      "cell_type": "markdown",
      "metadata": {
        "id": "view-in-github",
        "colab_type": "text"
      },
      "source": [
        "<a href=\"https://colab.research.google.com/github/Reben80/3DPrintCalculus/blob/main/Week7.ipynb\" target=\"_parent\"><img src=\"https://colab.research.google.com/assets/colab-badge.svg\" alt=\"Open In Colab\"/></a>"
      ]
    },
    {
      "cell_type": "code",
      "execution_count": null,
      "metadata": {
        "id": "1SMec3_HFctd"
      },
      "outputs": [],
      "source": [
        "import matplotlib.pyplot as plt\n",
        "import seaborn as sns\n",
        "import pandas as pd\n",
        "import numpy as np\n",
        "\n",
        "# Load the penguins dataset from seaborn\n",
        "penguins = sns.load_dataset('penguins')\n",
        "\n",
        "# Display the first few rows of the dataset\n",
        "print(penguins.head())\n"
      ]
    },
    {
      "cell_type": "code",
      "source": [
        "penguins.info()"
      ],
      "metadata": {
        "id": "RALeWp_dF4lA"
      },
      "execution_count": null,
      "outputs": []
    },
    {
      "cell_type": "code",
      "source": [
        "penguins.describe()\n"
      ],
      "metadata": {
        "id": "7-P_wv42F85Z"
      },
      "execution_count": null,
      "outputs": []
    },
    {
      "cell_type": "code",
      "source": [
        "plt.scatter(penguins['bill_length_mm'], penguins['bill_depth_mm'])\n",
        "plt.xlabel('Bill Length (mm)')\n",
        "plt.ylabel('Bill Depth (mm)')\n",
        "plt.title('Bill Length vs. Bill Depth')\n",
        "plt.show()"
      ],
      "metadata": {
        "id": "WoMuzQ_eGPJc"
      },
      "execution_count": null,
      "outputs": []
    },
    {
      "cell_type": "code",
      "source": [
        "plt.scatter(penguins['bill_length_mm'], penguins['flipper_length_mm'])"
      ],
      "metadata": {
        "id": "PjIct-BCGm0Y"
      },
      "execution_count": null,
      "outputs": []
    },
    {
      "cell_type": "code",
      "source": [
        "plt.scatter(penguins['bill_length_mm'], penguins['body_mass_g'])"
      ],
      "metadata": {
        "id": "o7EwvkIIGyzr"
      },
      "execution_count": null,
      "outputs": []
    },
    {
      "cell_type": "code",
      "source": [
        "penguins_adeile=penguins[penguins['species']=='Adelie']\n",
        "penguins['species'].unique()"
      ],
      "metadata": {
        "id": "9wiCpBOhG9Io"
      },
      "execution_count": null,
      "outputs": []
    },
    {
      "cell_type": "code",
      "source": [
        "\n",
        "plt.scatter(penguins_adeile['bill_length_mm'], penguins_adeile['bill_depth_mm'])\n",
        "plt.xlabel('Bill Length (mm)')\n",
        "plt.ylabel('Bill Depth (mm)')\n",
        "plt.title('Bill Length vs. Bill Depth')\n",
        "plt.show()"
      ],
      "metadata": {
        "id": "4z5ilq7tHBEI"
      },
      "execution_count": null,
      "outputs": []
    },
    {
      "cell_type": "code",
      "source": [
        "# Check for missing values\n",
        "print(penguins.isnull().sum())\n"
      ],
      "metadata": {
        "id": "ioVydBxXN6G5"
      },
      "execution_count": null,
      "outputs": []
    },
    {
      "cell_type": "code",
      "source": [
        "# Filter penguins by species and select bill_length_mm for Adelie\n",
        "adelie_bill_length = penguins[penguins['species'] == 'Adelie']['bill_length_mm']\n",
        "\n",
        "# Display the result\n",
        "print(adelie_bill_length)"
      ],
      "metadata": {
        "id": "YLwtbQMpJbSu"
      },
      "execution_count": null,
      "outputs": []
    },
    {
      "cell_type": "code",
      "source": [
        "# Pairplot will create all scatter plots for the numerical columns\n",
        "sns.pairplot(penguins)"
      ],
      "metadata": {
        "id": "WBa3YtM1XEt_"
      },
      "execution_count": null,
      "outputs": []
    },
    {
      "cell_type": "code",
      "source": [
        "# Pairplot excluding non-numerical columns and using a hue for species\n",
        "sns.pairplot(penguins, hue=\"species\", diag_kind=\"kde\")\n",
        "\n",
        "plt.show()\n"
      ],
      "metadata": {
        "id": "ocaTUiEuXcDU"
      },
      "execution_count": null,
      "outputs": []
    },
    {
      "cell_type": "code",
      "source": [
        "# Pairplot excluding non-numerical columns and using a hue for species\n",
        "sns.pairplot(penguins, hue=\"island\", diag_kind=\"kde\")\n",
        "\n",
        "plt.show()\n"
      ],
      "metadata": {
        "id": "xOIydq6qX3rb"
      },
      "execution_count": null,
      "outputs": []
    },
    {
      "cell_type": "code",
      "source": [
        "# Pairplot excluding non-numerical columns and using a hue for species\n",
        "sns.pairplot(penguins, hue=\"species\", markers=[\"o\", \"s\", \"D\"])\n",
        "\n",
        "\n",
        "plt.show()"
      ],
      "metadata": {
        "id": "ui9vT8w_a1C7"
      },
      "execution_count": null,
      "outputs": []
    },
    {
      "cell_type": "code",
      "source": [
        "sns.pairplot(penguins, hue=\"species\", height=3.5)\n"
      ],
      "metadata": {
        "id": "g1WuCd4Pa_Bq"
      },
      "execution_count": null,
      "outputs": []
    },
    {
      "cell_type": "code",
      "source": [
        "sns.pairplot(penguins, hue=\"species\", palette=\"coolwarm\")\n"
      ],
      "metadata": {
        "id": "g758l2P_bTVz"
      },
      "execution_count": null,
      "outputs": []
    },
    {
      "cell_type": "markdown",
      "source": [
        "### Key Features of `sns.pairplot`:\n",
        "\n",
        "1. **Plots All Pairwise Relationships**:\n",
        "   - For a dataset with `n` numerical columns, `pairplot` creates an $ n \\times n $ grid of subplots.\n",
        "   - Each off-diagonal plot is a scatter plot showing the relationship between two numerical variables.\n",
        "   - For $ n $ columns, there are $\\binom{n}{2}$ scatter plots and $n$ diagonal plots.\n",
        "\n",
        "2. **Diagonal Plots (Histograms or KDEs)**:\n",
        "   - By default, `pairplot` plots histograms for the diagonal cells to show the distribution of each numerical variable.\n",
        "   - You can change this to kernel density estimation (KDE) using the `diag_kind` argument.\n",
        "\n",
        "3. **Hue (Color Coding by Category)**:\n",
        "   - Use the `hue` parameter to color-code the scatter plots by a categorical variable (like species, sex or Island).\n",
        "   - This allows you to see how different categories are distributed across pairs of numerical variables.\n",
        "\n",
        "4. **Customization**:\n",
        "   - You can customize marker styles, palettes, plot size, and other visual aspects of the grid.\n",
        "   \n",
        "\n"
      ],
      "metadata": {
        "id": "NcZL59z3fhRH"
      }
    },
    {
      "cell_type": "code",
      "source": [],
      "metadata": {
        "id": "ew5Z4zIJjGTC"
      },
      "execution_count": null,
      "outputs": []
    },
    {
      "cell_type": "markdown",
      "source": [
        "# Bar Graph on Pengiun Dataset (bad!!!)"
      ],
      "metadata": {
        "id": "IcZERql1jVpU"
      }
    },
    {
      "cell_type": "code",
      "source": [
        "# Bar plot of species vs average body mass\n",
        "#sns.barplot(x=\"species\", y=\"body_mass_g\", data=penguins)\n",
        "\n",
        "plt.bar(penguins['species'], penguins['body_mass_g'])\n",
        "# Add title and labels\n",
        "plt.title('Average Body Mass for Each Penguin Species')\n",
        "plt.xlabel('Species')\n",
        "plt.ylabel('Body Mass (g)')\n",
        "\n",
        "# Show the plot\n",
        "plt.show()"
      ],
      "metadata": {
        "id": "q6wK7TyQjZlr"
      },
      "execution_count": null,
      "outputs": []
    },
    {
      "cell_type": "markdown",
      "source": [
        "# Corrected Bar Graph using aggreation"
      ],
      "metadata": {
        "id": "dJIRGpSBq7rj"
      }
    },
    {
      "cell_type": "code",
      "source": [
        "\n",
        "# Calculate the mean body mass for each species\n",
        "species_means = penguins.groupby('species')['body_mass_g'].mean()\n",
        "\n",
        "# Plot using plt.bar (now using aggregated data)\n",
        "plt.bar(species_means.index, species_means.values)\n",
        "\n",
        "# Add title and labels\n",
        "plt.title('Average Body Mass for Each Penguin Species')\n",
        "plt.xlabel('Species')\n",
        "plt.ylabel('Body Mass (g)')\n",
        "\n",
        "# Show the plot\n",
        "plt.show()\n"
      ],
      "metadata": {
        "id": "mujyGqTjqvO5"
      },
      "execution_count": null,
      "outputs": []
    },
    {
      "cell_type": "code",
      "source": [
        "species_means = penguins.groupby('species')['body_mass_g'].mean()\n",
        "plt.bar(species_means.index, species_means.values)\n",
        "plt.title('Average Body Mass for Each Species')\n",
        "plt.xlabel('Species')\n",
        "plt.ylabel('Body Mass (g)')\n",
        "plt.show()\n"
      ],
      "metadata": {
        "id": "NTevj0hml34H"
      },
      "execution_count": null,
      "outputs": []
    },
    {
      "cell_type": "code",
      "source": [
        "species_sum = penguins.groupby('species')['body_mass_g'].sum()\n",
        "plt.bar(species_sum.index, species_sum.values)\n",
        "plt.title('Sum of Body Mass for Each Species')\n",
        "plt.xlabel('Species')\n",
        "plt.ylabel('Body Mass (g)')\n",
        "plt.show()"
      ],
      "metadata": {
        "id": "SuhYdnJvzdFf"
      },
      "execution_count": null,
      "outputs": []
    },
    {
      "cell_type": "code",
      "source": [
        "\n"
      ],
      "metadata": {
        "id": "fcnf0h64nXcr"
      },
      "execution_count": null,
      "outputs": []
    },
    {
      "cell_type": "markdown",
      "source": [
        "### Aggregation with the Penguin Dataset\n",
        "\n",
        "**Aggregation** is the process of summarizing data by grouping it and applying a function (e.g., mean, sum, min, max) to each group.\n",
        "\n",
        "#### Example: Aggregating Body Mass by Species\n",
        "\n",
        "If we want to summarize the **body mass** of penguins by their **species**, we can use pandas' `groupby()` function and apply aggregation functions like `mean`, `min`, and `max`.\n",
        "\n",
        "#### Common Aggregations:\n",
        "\n",
        "1. **Mean** (Average Body Mass by Species):\n",
        "  \n"
      ],
      "metadata": {
        "id": "xx-YXCDSn2WM"
      }
    },
    {
      "cell_type": "code",
      "source": [
        "\n",
        "   species_means = penguins.groupby('species')['body_mass_g'].mean()"
      ],
      "metadata": {
        "id": "gifb47p_n4_8"
      },
      "execution_count": null,
      "outputs": []
    },
    {
      "cell_type": "markdown",
      "source": [
        "Min (Smallest Body Mass by Species):"
      ],
      "metadata": {
        "id": "_gg6h-R2n-WU"
      }
    },
    {
      "cell_type": "code",
      "source": [
        "species_min = penguins.groupby('species')['body_mass_g'].min()\n"
      ],
      "metadata": {
        "id": "J74ZdkSnn6-l"
      },
      "execution_count": null,
      "outputs": []
    },
    {
      "cell_type": "markdown",
      "source": [
        "Count (Number of Penguins by Species):\n",
        "Sum ( Sum of Body mass for all penguins in each Species)"
      ],
      "metadata": {
        "id": "zJPV2zjQoBke"
      }
    },
    {
      "cell_type": "code",
      "source": [
        "species_count = penguins.groupby('species')['body_mass_g'].count()\n",
        "\n",
        "species_sum = penguins.groupby('species')['body_mass_g'].sum()"
      ],
      "metadata": {
        "id": "dd3rx3C7oEf9"
      },
      "execution_count": null,
      "outputs": []
    },
    {
      "cell_type": "code",
      "source": [
        "species_means.index\n"
      ],
      "metadata": {
        "id": "YanPkOqMonHP"
      },
      "execution_count": null,
      "outputs": []
    },
    {
      "cell_type": "code",
      "source": [
        "species_means.values\n"
      ],
      "metadata": {
        "id": "YFWyJBDEorj3"
      },
      "execution_count": null,
      "outputs": []
    },
    {
      "cell_type": "markdown",
      "source": [
        "### Using `groupby()` in pandas\n",
        "\n",
        "When you use the `groupby()` function in pandas, the result is a **pandas Series or DataFrame** where the **index** corresponds to the grouping variable (in this case, `species`), and the **values** correspond to the aggregated quantity (like `mean`, `min`, `max`, etc.).\n",
        "\n",
        "\n"
      ],
      "metadata": {
        "id": "rMM6anFEo58W"
      }
    },
    {
      "cell_type": "markdown",
      "source": [
        "## Using Seaborn\n",
        "\n",
        "One of the benefit of using seaborn is that automatically do agression for you."
      ],
      "metadata": {
        "id": "Byc4sReqrVfT"
      }
    },
    {
      "cell_type": "code",
      "source": [
        "# Bar plot of species vs average body mass\n",
        "sns.barplot(x=\"species\", y=\"body_mass_g\", data=penguins)\n",
        "\n",
        "#plt.bar(penguins['species'], penguins['body_mass_g'])\n",
        "# Add title and labels\n",
        "plt.title('Average Body Mass for Each Penguin Species')\n",
        "plt.xlabel('Species')\n",
        "plt.ylabel('Body Mass (g)')\n",
        "\n",
        "# Show the plot\n",
        "plt.show()"
      ],
      "metadata": {
        "id": "_F3gW-1hjxPF"
      },
      "execution_count": null,
      "outputs": []
    },
    {
      "cell_type": "code",
      "source": [
        "\n",
        "sns.barplot(x=\"species\", y=\"body_mass_g\", data=penguins, estimator=np.median)\n",
        "\n",
        "plt.title('Median Body Mass for Each Penguin Species')\n",
        "plt.xlabel('Species')\n",
        "plt.ylabel('Body Mass (g)')\n",
        "plt.show()\n"
      ],
      "metadata": {
        "id": "GB88HRbFkpPO"
      },
      "execution_count": null,
      "outputs": []
    },
    {
      "cell_type": "markdown",
      "source": [
        "# Combined Bar Graph\n"
      ],
      "metadata": {
        "id": "8mtLQHLt0n4n"
      }
    },
    {
      "cell_type": "code",
      "source": [
        "\n",
        "# Grouped bar plot: species vs body mass, colored by sex\n",
        "sns.barplot(x='species', y='body_mass_g', hue='sex', data=penguins)\n",
        "\n",
        "# Add title and labels\n",
        "plt.title('Average Body Mass by Species and Sex')\n",
        "plt.xlabel('Species')\n",
        "plt.ylabel('Body Mass (g)')\n",
        "\n",
        "# Show the plot\n",
        "plt.show()\n"
      ],
      "metadata": {
        "id": "vShWigcc0rau"
      },
      "execution_count": null,
      "outputs": []
    },
    {
      "cell_type": "code",
      "source": [
        "\n",
        "# Grouped bar plot: species vs body mass, colored by sex\n",
        "sns.barplot(x='species', y='body_mass_g', hue='island', data=penguins)\n",
        "\n",
        "# Add title and labels\n",
        "plt.title('Average Body Mass by Species and Sex')\n",
        "plt.xlabel('Species')\n",
        "plt.ylabel('Body Mass (g)')\n",
        "plt.show()"
      ],
      "metadata": {
        "id": "i1qLvZs_0wnj"
      },
      "execution_count": null,
      "outputs": []
    },
    {
      "cell_type": "code",
      "source": [
        "\n",
        "# Grouped bar plot: species vs body mass, colored by sex\n",
        "sns.barplot(x='sex', y='body_mass_g', hue='species', data=penguins)\n",
        "\n",
        "# Add title and labels\n",
        "plt.title('Average Body Mass by Species and Sex')\n",
        "plt.xlabel('Species')\n",
        "plt.ylabel('Body Mass (g)')\n",
        "plt.show()"
      ],
      "metadata": {
        "id": "ajis7B890-cA"
      },
      "execution_count": null,
      "outputs": []
    },
    {
      "cell_type": "code",
      "source": [
        "\n",
        "# Prepare data for stacking\n",
        "species_sex_grouped = penguins.groupby(['species', 'sex'])['body_mass_g'].mean().unstack()\n",
        "\n",
        "# Plot stacked bar graph\n",
        "species_sex_grouped.plot(kind='bar', stacked=True)\n",
        "\n",
        "# Add title and labels\n",
        "plt.title('Stacked Bar Plot: Average Body Mass by Species and Sex')\n",
        "plt.xlabel('Species')\n",
        "plt.ylabel('Body Mass (g)')\n",
        "\n",
        "# Show the plot\n",
        "plt.show()\n"
      ],
      "metadata": {
        "id": "LvSWYnUk1LUw"
      },
      "execution_count": null,
      "outputs": []
    },
    {
      "cell_type": "code",
      "source": [
        "fig, axes = plt.subplots(1, 3, figsize=(10, 5))\n",
        "\n",
        "# Bar plot for body mass by species\n",
        "sns.barplot(x='species', y='body_mass_g', data=penguins, ax=axes[0])\n",
        "\n",
        "\n",
        "# Bar plot for flipper length by species\n",
        "sns.barplot(x='species', y='flipper_length_mm', data=penguins, ax=axes[1])\n",
        "\n",
        "plt.bar(penguins['species'], penguins['body_mass_g'],ax=axes[2])\n",
        "\n",
        "\n",
        "# Show the plot\n",
        "plt.show()\n",
        "# Adjust the layout\n",
        "plt.tight_layout()\n",
        "\n",
        "# Show the plot\n",
        "plt.show()\n"
      ],
      "metadata": {
        "id": "0wVgBDBI1mFc"
      },
      "execution_count": null,
      "outputs": []
    },
    {
      "source": [
        "fig, axes = plt.subplots(1, 3, figsize=(10, 5))\n",
        "\n",
        "# Bar plot for body mass by species\n",
        "sns.barplot(x='species', y='body_mass_g', data=penguins, ax=axes[0])\n",
        "\n",
        "\n",
        "# Bar plot for flipper length by species\n",
        "sns.barplot(x='species', y='flipper_length_mm', data=penguins, ax=axes[1])\n",
        "\n",
        "# Use axes[2].bar() instead of plt.bar() to explicitly specify the subplot\n",
        "axes[2].bar(penguins['species'], penguins['body_mass_g']) # Changed this line to use axes[2].bar()\n",
        "\n",
        "\n",
        "# Show the plot\n",
        "plt.show()\n",
        "# Adjust the layout\n",
        "plt.tight_layout()\n",
        "\n",
        "# Show the plot\n",
        "plt.show()"
      ],
      "cell_type": "code",
      "metadata": {
        "id": "RGk6wDl12lll"
      },
      "execution_count": null,
      "outputs": []
    },
    {
      "cell_type": "markdown",
      "source": [
        "# Simple Exam of Pie Graph"
      ],
      "metadata": {
        "id": "inqEeppA5oC3"
      }
    },
    {
      "cell_type": "code",
      "source": [
        "# Example pie chart\n",
        "labels = ['A', 'B', 'C']\n",
        "sizes = [50, 25, 25]\n",
        "plt.pie(sizes, labels=labels, autopct='%1.1f%%')\n",
        "plt.show()"
      ],
      "metadata": {
        "id": "TCeuLnKP5rJ1"
      },
      "execution_count": null,
      "outputs": []
    },
    {
      "cell_type": "code",
      "source": [
        "\n",
        "\n",
        "# Count the number of penguins in each species\n",
        "species_counts = penguins['species'].value_counts()\n",
        "\n",
        "# Create a pie chart\n",
        "plt.figure(figsize=(6, 6))\n",
        "plt.pie(species_counts, labels=species_counts.index, autopct='%1.1f%%', startangle=90, colors=['lightblue', 'lightgreen', 'coral'])\n",
        "plt.title('Penguin Species Distribution')\n",
        "\n",
        "# Show the plot\n",
        "plt.show()\n"
      ],
      "metadata": {
        "id": "M0cm-10b2zfx"
      },
      "execution_count": null,
      "outputs": []
    },
    {
      "cell_type": "markdown",
      "source": [
        "The `autopct='%1.1f%%'` parameter in the `plt.pie()` function is used to **display the percentage value** on each segment of the pie chart.\n",
        "\n",
        "### Explanation:\n",
        "- **`'%1.1f%%'`** is a string format for **floating point numbers**.\n",
        "  - **`1.1f`** means:\n",
        "    - **1**: The total number of digits to display before the decimal point (which is the minimum, but if there are more digits, they'll be displayed).\n",
        "    - **1**: The number of digits to display **after** the decimal point.\n",
        "    - **f**: This specifies that the value should be displayed as a floating point number.\n",
        "  - The **`%%`** is used to display the percentage symbol (`%`).\n",
        "\n",
        "### Breakdown:\n",
        "- **`1.1f`**: Displays the number as a float with one digit after the decimal point.\n",
        "- **`%%`**: Adds the literal percentage sign after the number.\n",
        "\n",
        "### Example:\n",
        "If you have a pie chart slice that represents 33.33% of the data:\n",
        "- **`autopct='%1.1f%%'`** will display `33.3%` (rounding to one decimal place).\n",
        "- **`autopct='%1.0f%%'`** will display `33%` (no decimal places).\n",
        "- **`autopct='%1.2f%%'`** will display `33.33%` (two decimal places).\n",
        "\n"
      ],
      "metadata": {
        "id": "89_g4OD_59d-"
      }
    },
    {
      "cell_type": "code",
      "source": [
        "# Example pie chart\n",
        "explode = (0.1,0, 0)\n",
        "labels = ['A', 'B', 'C']\n",
        "sizes = [50, 25, 25]\n",
        "plt.pie(sizes, labels=labels,explode=explode, hatch=['**O', 'oO', 'O.O', '.||.'])\n",
        "plt.show()\n"
      ],
      "metadata": {
        "id": "DSUo6o3l32Re"
      },
      "execution_count": null,
      "outputs": []
    },
    {
      "cell_type": "code",
      "source": [
        "explode = (0, 0.1, 0, 0)  # only \"explode\" the 2nd slice (i.e. 'Hogs')\n",
        "\n",
        "fig, ax = plt.subplots()\n",
        "ax.pie(sizes, explode=explode, labels=labels, autopct='%1.1f%%',\n",
        "       shadow=True, startangle=90)\n",
        "plt.show()"
      ],
      "metadata": {
        "id": "ZiGaW99s6w-m"
      },
      "execution_count": null,
      "outputs": []
    },
    {
      "cell_type": "code",
      "source": [
        "from sklearn.cluster import KMeans\n",
        "import matplotlib.pyplot as plt\n",
        "from sklearn.preprocessing import StandardScaler\n",
        "\n",
        "# Load the penguins dataset\n",
        "penguins = sns.load_dataset('penguins')\n",
        "\n",
        "# Preprocessing: Drop rows with missing values\n",
        "penguins_clean = penguins.dropna()\n",
        "\n",
        "# Select numerical features for clustering\n",
        "features = ['bill_length_mm', 'bill_depth_mm', 'flipper_length_mm', 'body_mass_g']\n",
        "\n",
        "# Standardize the data\n",
        "scaler = StandardScaler()\n",
        "penguins_scaled = scaler.fit_transform(penguins_clean[features])\n",
        "\n",
        "# Apply KMeans clustering\n",
        "kmeans = KMeans(n_clusters=3, random_state=42)\n",
        "penguins_clean['cluster'] = kmeans.fit_predict(penguins_scaled)\n",
        "\n",
        "# Visualize the clusters using bill length and flipper length\n",
        "plt.scatter(penguins_clean['bill_length_mm'], penguins_clean['flipper_length_mm'], c=penguins_clean['cluster'], cmap='viridis')\n",
        "\n",
        "# Add labels and title\n",
        "plt.xlabel('Bill Length (mm)')\n",
        "plt.ylabel('Flipper Length (mm)')\n",
        "plt.title('K-Means Clustering of Penguins')\n",
        "\n",
        "plt.show()\n"
      ],
      "metadata": {
        "id": "4lQYdw9VTyoQ"
      },
      "execution_count": null,
      "outputs": []
    }
  ]
}